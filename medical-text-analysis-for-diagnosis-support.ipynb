{
 "cells": [
  {
   "cell_type": "code",
   "execution_count": null,
   "id": "d6c92c59-1227-4a78-84fe-081e1e22d526",
   "metadata": {},
   "outputs": [],
   "source": []
  },
  {
   "cell_type": "code",
   "execution_count": null,
   "id": "9835d5ea-7d21-472c-b3ee-5c707d63fb4d",
   "metadata": {},
   "outputs": [],
   "source": []
  },
  {
   "cell_type": "code",
   "execution_count": null,
   "id": "351118af-9e21-463d-aee9-94641f565603",
   "metadata": {},
   "outputs": [],
   "source": []
  },
  {
   "cell_type": "code",
   "execution_count": null,
   "id": "1d1077a4-6846-4ce8-acfb-193f2c026610",
   "metadata": {},
   "outputs": [],
   "source": []
  },
  {
   "cell_type": "markdown",
   "id": "5e41daa2-befa-4656-a698-4b83820dbe31",
   "metadata": {},
   "source": [
    "# Data Preprocessing"
   ]
  },
  {
   "cell_type": "code",
   "execution_count": 2,
   "id": "44167907-8fed-423b-8233-c7f66b4afd36",
   "metadata": {},
   "outputs": [
    {
     "name": "stderr",
     "output_type": "stream",
     "text": [
      "[nltk_data] Downloading package punkt to\n",
      "[nltk_data]     C:\\Users\\vrajd\\AppData\\Roaming\\nltk_data...\n",
      "[nltk_data]   Package punkt is already up-to-date!\n",
      "[nltk_data] Downloading package stopwords to\n",
      "[nltk_data]     C:\\Users\\vrajd\\AppData\\Roaming\\nltk_data...\n",
      "[nltk_data]   Package stopwords is already up-to-date!\n",
      "[nltk_data] Downloading package wordnet to\n",
      "[nltk_data]     C:\\Users\\vrajd\\AppData\\Roaming\\nltk_data...\n",
      "[nltk_data]   Package wordnet is already up-to-date!\n",
      "[nltk_data] Downloading package averaged_perceptron_tagger to\n",
      "[nltk_data]     C:\\Users\\vrajd\\AppData\\Roaming\\nltk_data...\n",
      "[nltk_data]   Package averaged_perceptron_tagger is already up-to-\n",
      "[nltk_data]       date!\n"
     ]
    },
    {
     "data": {
      "text/plain": [
       "True"
      ]
     },
     "execution_count": 2,
     "metadata": {},
     "output_type": "execute_result"
    }
   ],
   "source": [
    "# Import Libraries\n",
    "\n",
    "import pandas as pd\n",
    "import numpy as np\n",
    "import nltk\n",
    "from nltk.corpus import stopwords\n",
    "from nltk.tokenize import word_tokenize\n",
    "from nltk.stem import WordNetLemmatizer\n",
    "from nltk.tag import pos_tag\n",
    "import re\n",
    "from sklearn.model_selection import train_test_split, GridSearchCV, KFold\n",
    "from sklearn.feature_extraction.text import TfidfVectorizer\n",
    "from sklearn.linear_model import LogisticRegression\n",
    "from sklearn.metrics import accuracy_score, f1_score, classification_report, confusion_matrix\n",
    "from sklearn.preprocessing import LabelEncoder\n",
    "from sklearn.feature_selection import SelectKBest, chi2\n",
    "from imblearn.over_sampling import SMOTE\n",
    "import matplotlib.pyplot as plt\n",
    "import seaborn as sns\n",
    "\n",
    "import warnings\n",
    "import os\n",
    "import time\n",
    "warnings.filterwarnings('ignore')\n",
    "\n",
    "\n",
    "# Download NLTK resources\n",
    "nltk.download('punkt')\n",
    "nltk.download('stopwords')\n",
    "nltk.download('wordnet')\n",
    "nltk.download('averaged_perceptron_tagger')"
   ]
  },
  {
   "cell_type": "code",
   "execution_count": 3,
   "id": "4c1b8949-6c2d-42fe-9289-0b6a7af0cc4c",
   "metadata": {},
   "outputs": [],
   "source": [
    "# Load dataset\n",
    "df = pd.read_csv('mtsamples.csv')"
   ]
  },
  {
   "cell_type": "code",
   "execution_count": 4,
   "id": "bf130dce-a815-4bc5-bdcc-cad93198bf52",
   "metadata": {},
   "outputs": [
    {
     "data": {
      "text/html": [
       "<div>\n",
       "<style scoped>\n",
       "    .dataframe tbody tr th:only-of-type {\n",
       "        vertical-align: middle;\n",
       "    }\n",
       "\n",
       "    .dataframe tbody tr th {\n",
       "        vertical-align: top;\n",
       "    }\n",
       "\n",
       "    .dataframe thead th {\n",
       "        text-align: right;\n",
       "    }\n",
       "</style>\n",
       "<table border=\"1\" class=\"dataframe\">\n",
       "  <thead>\n",
       "    <tr style=\"text-align: right;\">\n",
       "      <th></th>\n",
       "      <th>Unnamed: 0</th>\n",
       "      <th>description</th>\n",
       "      <th>medical_specialty</th>\n",
       "      <th>sample_name</th>\n",
       "      <th>transcription</th>\n",
       "      <th>keywords</th>\n",
       "    </tr>\n",
       "  </thead>\n",
       "  <tbody>\n",
       "    <tr>\n",
       "      <th>1937</th>\n",
       "      <td>1937</td>\n",
       "      <td>A 2-month-old female with 1-week history of c...</td>\n",
       "      <td>Pediatrics - Neonatal</td>\n",
       "      <td>Congestion &amp; Fever - 2-month-old</td>\n",
       "      <td>CHIEF COMPLAINT:,  A 2-month-old female with 1...</td>\n",
       "      <td>NaN</td>\n",
       "    </tr>\n",
       "    <tr>\n",
       "      <th>1109</th>\n",
       "      <td>1109</td>\n",
       "      <td>Left calcaneal lengthening osteotomy with all...</td>\n",
       "      <td>Surgery</td>\n",
       "      <td>Calcaneal Lengthening Osteotomy</td>\n",
       "      <td>PREOPERATIVE DIAGNOSES:,  Left calcaneal valgu...</td>\n",
       "      <td>surgery, calcaneal lengthening, osteotomy, all...</td>\n",
       "    </tr>\n",
       "    <tr>\n",
       "      <th>1069</th>\n",
       "      <td>1069</td>\n",
       "      <td>Left knee arthroscopy with removal of the car...</td>\n",
       "      <td>Surgery</td>\n",
       "      <td>Cartilage Loose Body Removal</td>\n",
       "      <td>PREOPERATIVE DIAGNOSIS: , Left knee medial fem...</td>\n",
       "      <td>surgery, knee arthroscopy, chondroplasty, medi...</td>\n",
       "    </tr>\n",
       "    <tr>\n",
       "      <th>894</th>\n",
       "      <td>894</td>\n",
       "      <td>Degenerative disk disease at L4-L5 and L5-S1....</td>\n",
       "      <td>Surgery</td>\n",
       "      <td>Diskectomy &amp; Fusion</td>\n",
       "      <td>PREOPERATIVE DIAGNOSIS: , Degenerative disk di...</td>\n",
       "      <td>surgery, anterior exposure, degenerative disk ...</td>\n",
       "    </tr>\n",
       "    <tr>\n",
       "      <th>11</th>\n",
       "      <td>11</td>\n",
       "      <td>Normal left ventricle, moderate biatrial enla...</td>\n",
       "      <td>Cardiovascular / Pulmonary</td>\n",
       "      <td>2-D Doppler</td>\n",
       "      <td>2-D STUDY,1. Mild aortic stenosis, widely calc...</td>\n",
       "      <td>cardiovascular / pulmonary, 2-d study, doppler...</td>\n",
       "    </tr>\n",
       "  </tbody>\n",
       "</table>\n",
       "</div>"
      ],
      "text/plain": [
       "      Unnamed: 0                                        description  \\\n",
       "1937        1937   A 2-month-old female with 1-week history of c...   \n",
       "1109        1109   Left calcaneal lengthening osteotomy with all...   \n",
       "1069        1069   Left knee arthroscopy with removal of the car...   \n",
       "894          894   Degenerative disk disease at L4-L5 and L5-S1....   \n",
       "11            11   Normal left ventricle, moderate biatrial enla...   \n",
       "\n",
       "                medical_specialty                         sample_name  \\\n",
       "1937        Pediatrics - Neonatal   Congestion & Fever - 2-month-old    \n",
       "1109                      Surgery    Calcaneal Lengthening Osteotomy    \n",
       "1069                      Surgery       Cartilage Loose Body Removal    \n",
       "894                       Surgery                Diskectomy & Fusion    \n",
       "11     Cardiovascular / Pulmonary                        2-D Doppler    \n",
       "\n",
       "                                          transcription  \\\n",
       "1937  CHIEF COMPLAINT:,  A 2-month-old female with 1...   \n",
       "1109  PREOPERATIVE DIAGNOSES:,  Left calcaneal valgu...   \n",
       "1069  PREOPERATIVE DIAGNOSIS: , Left knee medial fem...   \n",
       "894   PREOPERATIVE DIAGNOSIS: , Degenerative disk di...   \n",
       "11    2-D STUDY,1. Mild aortic stenosis, widely calc...   \n",
       "\n",
       "                                               keywords  \n",
       "1937                                                NaN  \n",
       "1109  surgery, calcaneal lengthening, osteotomy, all...  \n",
       "1069  surgery, knee arthroscopy, chondroplasty, medi...  \n",
       "894   surgery, anterior exposure, degenerative disk ...  \n",
       "11    cardiovascular / pulmonary, 2-d study, doppler...  "
      ]
     },
     "execution_count": 4,
     "metadata": {},
     "output_type": "execute_result"
    }
   ],
   "source": [
    "df.sample(5)"
   ]
  },
  {
   "cell_type": "code",
   "execution_count": 5,
   "id": "6218b650-1119-4c72-9678-de321f745cdf",
   "metadata": {},
   "outputs": [
    {
     "data": {
      "text/plain": [
       "Index(['Unnamed: 0', 'description', 'medical_specialty', 'sample_name',\n",
       "       'transcription', 'keywords'],\n",
       "      dtype='object')"
      ]
     },
     "execution_count": 5,
     "metadata": {},
     "output_type": "execute_result"
    }
   ],
   "source": [
    "df.columns"
   ]
  },
  {
   "cell_type": "code",
   "execution_count": 6,
   "id": "b28e32d0-7bd7-4752-9938-c0ba1e45d7b8",
   "metadata": {},
   "outputs": [
    {
     "data": {
      "text/plain": [
       "array([' Allergy / Immunology', ' Bariatrics',\n",
       "       ' Cardiovascular / Pulmonary', ' Neurology', ' Dentistry',\n",
       "       ' Urology', ' General Medicine', ' Surgery', ' Speech - Language',\n",
       "       ' SOAP / Chart / Progress Notes', ' Sleep Medicine',\n",
       "       ' Rheumatology', ' Radiology', ' Psychiatry / Psychology',\n",
       "       ' Podiatry', ' Physical Medicine - Rehab',\n",
       "       ' Pediatrics - Neonatal', ' Pain Management', ' Orthopedic',\n",
       "       ' Ophthalmology', ' Office Notes', ' Obstetrics / Gynecology',\n",
       "       ' Neurosurgery', ' Nephrology', ' Letters',\n",
       "       ' Lab Medicine - Pathology', ' IME-QME-Work Comp etc.',\n",
       "       ' Hospice - Palliative Care', ' Hematology - Oncology',\n",
       "       ' Gastroenterology', ' ENT - Otolaryngology', ' Endocrinology',\n",
       "       ' Emergency Room Reports', ' Discharge Summary',\n",
       "       ' Diets and Nutritions', ' Dermatology',\n",
       "       ' Cosmetic / Plastic Surgery', ' Consult - History and Phy.',\n",
       "       ' Chiropractic', ' Autopsy'], dtype=object)"
      ]
     },
     "execution_count": 6,
     "metadata": {},
     "output_type": "execute_result"
    }
   ],
   "source": [
    "df.medical_specialty.unique()"
   ]
  },
  {
   "cell_type": "code",
   "execution_count": 7,
   "id": "a8a96bfb-b656-442e-a119-8d0222478efb",
   "metadata": {},
   "outputs": [
    {
     "data": {
      "text/plain": [
       "2377"
      ]
     },
     "execution_count": 7,
     "metadata": {},
     "output_type": "execute_result"
    }
   ],
   "source": [
    "len(df.sample_name.unique())"
   ]
  },
  {
   "cell_type": "code",
   "execution_count": 8,
   "id": "d16864b9-0357-4ad0-a7a9-f46b413d925d",
   "metadata": {},
   "outputs": [
    {
     "data": {
      "text/plain": [
       "' A 23-year-old white female presents with complaint of allergies.'"
      ]
     },
     "execution_count": 8,
     "metadata": {},
     "output_type": "execute_result"
    }
   ],
   "source": [
    "df.description[0]"
   ]
  },
  {
   "cell_type": "code",
   "execution_count": 9,
   "id": "e16bfb00-9159-4cf1-b60e-e4d59404fef7",
   "metadata": {},
   "outputs": [
    {
     "data": {
      "text/plain": [
       "'SUBJECTIVE:,  This 23-year-old white female presents with complaint of allergies.  She used to have allergies when she lived in Seattle but she thinks they are worse here.  In the past, she has tried Claritin, and Zyrtec.  Both worked for short time but then seemed to lose effectiveness.  She has used Allegra also.  She used that last summer and she began using it again two weeks ago.  It does not appear to be working very well.  She has used over-the-counter sprays but no prescription nasal sprays.  She does have asthma but doest not require daily medication for this and does not think it is flaring up.,MEDICATIONS: , Her only medication currently is Ortho Tri-Cyclen and the Allegra.,ALLERGIES: , She has no known medicine allergies.,OBJECTIVE:,Vitals:  Weight was 130 pounds and blood pressure 124/78.,HEENT:  Her throat was mildly erythematous without exudate.  Nasal mucosa was erythematous and swollen.  Only clear drainage was seen.  TMs were clear.,Neck:  Supple without adenopathy.,Lungs:  Clear.,ASSESSMENT:,  Allergic rhinitis.,PLAN:,1.  She will try Zyrtec instead of Allegra again.  Another option will be to use loratadine.  She does not think she has prescription coverage so that might be cheaper.,2.  Samples of Nasonex two sprays in each nostril given for three weeks.  A prescription was written as well.'"
      ]
     },
     "execution_count": 9,
     "metadata": {},
     "output_type": "execute_result"
    }
   ],
   "source": [
    "df.transcription[0]"
   ]
  },
  {
   "cell_type": "code",
   "execution_count": 10,
   "id": "867f8d5e-738d-429d-860f-986702095f01",
   "metadata": {},
   "outputs": [
    {
     "data": {
      "text/plain": [
       "'allergy / immunology, allergic rhinitis, allergies, asthma, nasal sprays, rhinitis, nasal, erythematous, allegra, sprays, allergic,'"
      ]
     },
     "execution_count": 10,
     "metadata": {},
     "output_type": "execute_result"
    }
   ],
   "source": [
    "df.keywords[0]"
   ]
  },
  {
   "cell_type": "code",
   "execution_count": 11,
   "id": "8936d954-8e8d-4f73-b373-bee8f7fc8295",
   "metadata": {},
   "outputs": [
    {
     "data": {
      "text/plain": [
       "' Consult for laparoscopic gastric bypass.'"
      ]
     },
     "execution_count": 11,
     "metadata": {},
     "output_type": "execute_result"
    }
   ],
   "source": [
    "df.description[2]"
   ]
  },
  {
   "cell_type": "code",
   "execution_count": 12,
   "id": "9ede4fc1-3603-4a88-976c-682320cc8cad",
   "metadata": {},
   "outputs": [
    {
     "data": {
      "text/plain": [
       "Unnamed: 0              0\n",
       "description             0\n",
       "medical_specialty       0\n",
       "sample_name             0\n",
       "transcription          33\n",
       "keywords             1068\n",
       "dtype: int64"
      ]
     },
     "execution_count": 12,
     "metadata": {},
     "output_type": "execute_result"
    }
   ],
   "source": [
    "df.isnull().sum()"
   ]
  },
  {
   "cell_type": "code",
   "execution_count": 13,
   "id": "8ca56656-0389-4300-9d4e-e57d76e7dd3f",
   "metadata": {},
   "outputs": [],
   "source": [
    "# Combine transcription and keywords, handle missing values\n",
    "df['text'] = df['transcription'].fillna('') + ' ' + df['keywords'].fillna('')"
   ]
  },
  {
   "cell_type": "code",
   "execution_count": 14,
   "id": "52e39d2f-eab5-4f93-aaaa-8ab7f2d80aa7",
   "metadata": {},
   "outputs": [],
   "source": [
    "# Drop unnecessary columns and handle missing values\n",
    "df = df[['text', 'medical_specialty']].dropna()"
   ]
  },
  {
   "cell_type": "code",
   "execution_count": 15,
   "id": "f854c331-5ecb-4e81-a156-53940e0b415f",
   "metadata": {},
   "outputs": [
    {
     "data": {
      "text/plain": [
       "Index(['text', 'medical_specialty'], dtype='object')"
      ]
     },
     "execution_count": 15,
     "metadata": {},
     "output_type": "execute_result"
    }
   ],
   "source": [
    "df.columns"
   ]
  },
  {
   "cell_type": "code",
   "execution_count": 16,
   "id": "bb6f04dd-800c-4839-a5e9-df420a2ff8fc",
   "metadata": {},
   "outputs": [
    {
     "data": {
      "text/plain": [
       "text                 0\n",
       "medical_specialty    0\n",
       "dtype: int64"
      ]
     },
     "execution_count": 16,
     "metadata": {},
     "output_type": "execute_result"
    }
   ],
   "source": [
    "df.isnull().sum()"
   ]
  },
  {
   "cell_type": "code",
   "execution_count": 17,
   "id": "760370b4-edbe-4460-b5ff-1b2f89532a1c",
   "metadata": {},
   "outputs": [],
   "source": [
    "# Combine low-frequency classes\n",
    "counts = df['medical_specialty'].value_counts()\n",
    "others = [k for k, v in counts.items() if v < 100]\n",
    "df.loc[df['medical_specialty'].isin(others), 'medical_specialty'] = 'others'"
   ]
  },
  {
   "cell_type": "code",
   "execution_count": 18,
   "id": "3b217808-eaf8-46c8-a3d7-2bf0409caab0",
   "metadata": {},
   "outputs": [
    {
     "data": {
      "text/plain": [
       "Index(['text', 'medical_specialty'], dtype='object')"
      ]
     },
     "execution_count": 18,
     "metadata": {},
     "output_type": "execute_result"
    }
   ],
   "source": [
    "df.columns"
   ]
  },
  {
   "cell_type": "code",
   "execution_count": 19,
   "id": "7c1f4c12-0193-40ab-9444-64e558ed9f8f",
   "metadata": {},
   "outputs": [
    {
     "data": {
      "text/plain": [
       "array(['others', ' Cardiovascular / Pulmonary', ' Neurology', ' Urology',\n",
       "       ' General Medicine', ' Surgery', ' SOAP / Chart / Progress Notes',\n",
       "       ' Radiology', ' Orthopedic', ' Obstetrics / Gynecology',\n",
       "       ' Gastroenterology', ' Discharge Summary',\n",
       "       ' Consult - History and Phy.'], dtype=object)"
      ]
     },
     "execution_count": 19,
     "metadata": {},
     "output_type": "execute_result"
    }
   ],
   "source": [
    "df.medical_specialty.unique()"
   ]
  },
  {
   "cell_type": "code",
   "execution_count": 20,
   "id": "485e13e2-523b-42f1-ac10-e2cd70c2be47",
   "metadata": {},
   "outputs": [],
   "source": [
    "# Encode labels\n",
    "label_encoder = LabelEncoder()\n",
    "df['label'] = label_encoder.fit_transform(df['medical_specialty'])"
   ]
  },
  {
   "cell_type": "code",
   "execution_count": 21,
   "id": "bf05a9ad-f4ef-4484-a2be-d64b6fc9d36b",
   "metadata": {},
   "outputs": [
    {
     "data": {
      "text/plain": [
       "Index(['text', 'medical_specialty', 'label'], dtype='object')"
      ]
     },
     "execution_count": 21,
     "metadata": {},
     "output_type": "execute_result"
    }
   ],
   "source": [
    "df.columns"
   ]
  },
  {
   "cell_type": "code",
   "execution_count": 22,
   "id": "6ee8e289-f783-42e2-94aa-a87aa3efebd7",
   "metadata": {},
   "outputs": [
    {
     "name": "stdout",
     "output_type": "stream",
     "text": [
      "Text Length Stats:\n",
      "count    4999.000000\n",
      "mean      580.543309\n",
      "std       357.276469\n",
      "min         4.000000\n",
      "25%       324.000000\n",
      "50%       512.000000\n",
      "75%       758.000000\n",
      "max      3489.000000\n",
      "Name: text_length, dtype: float64\n"
     ]
    }
   ],
   "source": [
    "# Analyze text length\n",
    "df['text_length'] = df['text'].apply(lambda x: len(word_tokenize(x)))\n",
    "print(\"Text Length Stats:\")\n",
    "print(df['text_length'].describe())"
   ]
  },
  {
   "cell_type": "code",
   "execution_count": 23,
   "id": "981a4c0c-de9e-4e41-a34b-103fe1638b09",
   "metadata": {},
   "outputs": [
    {
     "data": {
      "text/plain": [
       "array([12,  0,  5, 11,  4, 10,  9,  8,  7,  6,  3,  2,  1])"
      ]
     },
     "execution_count": 23,
     "metadata": {},
     "output_type": "execute_result"
    }
   ],
   "source": [
    "df.label.unique()"
   ]
  },
  {
   "cell_type": "code",
   "execution_count": 46,
   "id": "f96975db-4367-4ef1-acd5-5cf8c629cece",
   "metadata": {},
   "outputs": [],
   "source": [
    "num_classes = len(label_encoder.classes_)"
   ]
  },
  {
   "cell_type": "code",
   "execution_count": 24,
   "id": "70561c6f-783a-43de-9ef4-d6f18f080d7f",
   "metadata": {},
   "outputs": [
    {
     "name": "stdout",
     "output_type": "stream",
     "text": [
      "Class Distribution:\n",
      "medical_specialty\n",
      " Surgery                          1103\n",
      "others                            1076\n",
      " Consult - History and Phy.        516\n",
      " Cardiovascular / Pulmonary        372\n",
      " Orthopedic                        355\n",
      " Radiology                         273\n",
      " General Medicine                  259\n",
      " Gastroenterology                  230\n",
      " Neurology                         223\n",
      " SOAP / Chart / Progress Notes     166\n",
      " Obstetrics / Gynecology           160\n",
      " Urology                           158\n",
      " Discharge Summary                 108\n",
      "Name: count, dtype: int64\n"
     ]
    }
   ],
   "source": [
    "# Display class distribution\n",
    "print(\"Class Distribution:\")\n",
    "print(df['medical_specialty'].value_counts())"
   ]
  },
  {
   "cell_type": "code",
   "execution_count": 25,
   "id": "ec1dd2b7-7fab-4872-b7f2-4e02b81fa6ea",
   "metadata": {},
   "outputs": [
    {
     "name": "stdout",
     "output_type": "stream",
     "text": [
      "\n",
      "Missing Values:\n",
      "text                 0\n",
      "medical_specialty    0\n",
      "label                0\n",
      "text_length          0\n",
      "dtype: int64\n"
     ]
    }
   ],
   "source": [
    "# Check for missing values\n",
    "print(\"\\nMissing Values:\")\n",
    "print(df.isnull().sum())"
   ]
  },
  {
   "cell_type": "code",
   "execution_count": 26,
   "id": "66a2ab5b-1a19-484e-8256-e647a68b96cc",
   "metadata": {},
   "outputs": [
    {
     "data": {
      "text/plain": [
       "(4999, 4)"
      ]
     },
     "execution_count": 26,
     "metadata": {},
     "output_type": "execute_result"
    }
   ],
   "source": [
    "df.shape"
   ]
  },
  {
   "cell_type": "code",
   "execution_count": 27,
   "id": "7d06f63d-e6b1-450f-84c6-b2e6ae88089f",
   "metadata": {},
   "outputs": [
    {
     "data": {
      "text/plain": [
       "Index(['text', 'medical_specialty', 'label', 'text_length'], dtype='object')"
      ]
     },
     "execution_count": 27,
     "metadata": {},
     "output_type": "execute_result"
    }
   ],
   "source": [
    "df.columns"
   ]
  },
  {
   "cell_type": "code",
   "execution_count": null,
   "id": "107d622b-2dc8-456f-b507-719a064b3915",
   "metadata": {},
   "outputs": [],
   "source": []
  },
  {
   "cell_type": "code",
   "execution_count": null,
   "id": "39bc4f0f-3275-489e-b5dd-063b39531e6f",
   "metadata": {},
   "outputs": [],
   "source": []
  },
  {
   "cell_type": "code",
   "execution_count": null,
   "id": "588a8041-5787-4902-b9df-60bb43700134",
   "metadata": {},
   "outputs": [],
   "source": []
  },
  {
   "cell_type": "code",
   "execution_count": null,
   "id": "2ef848ab-c86c-4b3d-8198-551cd7cb289b",
   "metadata": {},
   "outputs": [],
   "source": []
  },
  {
   "cell_type": "markdown",
   "id": "d120c1b5-f709-4084-8bcd-f952f1c08825",
   "metadata": {},
   "source": [
    "# Text Representation(Preprocessing)"
   ]
  },
  {
   "cell_type": "code",
   "execution_count": 28,
   "id": "e3315270-b996-4f15-8588-3914e5e44875",
   "metadata": {},
   "outputs": [],
   "source": [
    "# Define medical keywords to preserve \n",
    "medical_keywords_to_preserve = {\n",
    "    'abdomen', 'abdominal', 'abnormal', 'absent', 'acute', 'admission', 'analgesic', 'anemia', 'anesthesia', \n",
    "    'angioplasty', 'antibiotic', 'anticoagulant', 'antihypertensive', 'artery', 'arthritis', 'assessment', 'asthma', \n",
    "    'back', 'benefit', 'biopsy', 'bladder', 'bleeding', 'blood', 'bone', 'brain', 'breath', 'cancer', 'capsule', \n",
    "    'cardiac', 'cardiovascular', 'care', 'catheterization', 'chest', 'cholesterol', 'chronic', 'clinic', 'clinical', \n",
    "    'colon', 'colonoscopy', 'complication', 'condition', 'consent', 'consult', 'cough', 'creatinine', 'ct', 'culture', \n",
    "    'denies', 'diabetes', 'diagnosis', 'dialysis', 'diarrhea', 'dizziness', 'doctor', 'dose', 'dosage', 'drainage', \n",
    "    'drug', 'dyspnea', 'ear', 'echocardiogram', 'edema', 'electrocardiogram', 'electrolyte', 'elevated', 'emergency', \n",
    "    'endoscopy', 'epilepsy', 'er', 'evaluation', 'exam', 'extremity', 'eye', 'failure', 'fatigue', 'fever', 'fibrosis', \n",
    "    'followup', 'fracture', 'gastroenterology', 'gastrointestinal', 'glucose', 'gynecology', 'headache', 'heart', \n",
    "    'height', 'hemoglobin', 'hepatitis', 'history', 'hospital', 'hypertension', 'hysterectomy', 'icu', 'imaging', \n",
    "    'incision', 'infection', 'infusion', 'injection', 'inpatient', 'insulin', 'intestine', 'intubation', 'intraoperative', \n",
    "    'intravenous', 'intramuscular', 'itchiness', 'iv', 'joint', 'kidney', 'laparoscopy', 'liver', 'lung', 'management', \n",
    "    'mastectomy', 'medical', 'medication', 'mild', 'moderate', 'monitoring', 'mri', 'muscle', 'musculoskeletal', \n",
    "    'nausea', 'neck', 'negative', 'nerve', 'neurologic', 'neurology', 'normal', 'note', 'numbness', 'nurse', 'obesity', \n",
    "    'obstetrics', 'operation', 'oral', 'orthopedic', 'outpatient', 'oxygen', 'pain', 'palpitations', 'pancreas', \n",
    "    'patient', 'pelvis', 'physical', 'physician', 'platelet', 'pneumonia', 'positive', 'postoperative', 'preoperative', \n",
    "    'prescription', 'pressure', 'primary', 'procedure', 'progress', 'prognosis', 'prostate', 'provider', 'pulmonary', \n",
    "    'pulse', 'radiology', 'rash', 'rate', 'recovery', 'recurrent', 'referral', 'rehabilitation', 'renal', 'resection', \n",
    "    'respiration', 'respiratory', 'result', 'rhinitis', 'risk', 'saturation', 'scan', 'secondary', 'seizure', 'sepsis', \n",
    "    'severe', 'shortness', 'sign', 'skin', 'spleen', 'spine', 'stable', 'staff', 'stent', 'stomach', 'stroke', \n",
    "    'subcutaneous', 'summary', 'support', 'surgery', 'suture', 'swelling', 'symptom', 'syncope', 'tablet', \n",
    "    'temperature', 'test', 'therapy', 'throat', 'thrombosis', 'thyroid', 'tingling', 'topical', 'transplant', \n",
    "    'treatment', 'tumor', 'ulcer', 'ultrasound', 'unstable', 'urinary', 'urology', 'uterus', 'vascular', 'vein', \n",
    "    'ventilation', 'vital', 'vomiting', 'ward', 'weakness', 'weight', 'xray'\n",
    "}\n",
    "\n",
    "# Define abbreviations \n",
    "abbreviations = {\n",
    "    'bp': 'blood pressure', 'hr': 'heart rate', 'pt': 'patient', 'dx': 'diagnosis', 'rx': 'prescription', \n",
    "    'sob': 'shortness of breath', 'cxr': 'chest xray', 'prn': 'as needed', 'bid': 'twice daily', \n",
    "    'tid': 'three times daily', 'qid': 'four times daily', 'stat': 'immediately', 'po': 'by mouth', \n",
    "    'iv': 'intravenous', 'im': 'intramuscular', 'sc': 'subcutaneous', 'htn': 'hypertension', \n",
    "    'dm': 'diabetes mellitus', 'cad': 'coronary artery disease', 'chf': 'congestive heart failure', \n",
    "    'copd': 'chronic obstructive pulmonary disease', 'mi': 'myocardial infarction', 'ua': 'urinalysis', \n",
    "    'cbc': 'complete blood count', 'bmp': 'basic metabolic panel', 'ecg': 'electrocardiogram', \n",
    "    'echo': 'echocardiogram', 'npo': 'nil per os', 'abx': 'antibiotics', 'ns': 'normal saline', \n",
    "    'o2': 'oxygen', 'vss': 'vital signs stable', 'pmh': 'past medical history', 'fh': 'family history', \n",
    "    'sh': 'social history', 'ros': 'review of systems', 'pe': 'physical examination', \n",
    "    'hpi': 'history of present illness', 'preop': 'preoperative', 'postop': 'postoperative'\n",
    "}"
   ]
  },
  {
   "cell_type": "code",
   "execution_count": 29,
   "id": "2e7dc319-f54e-42d5-95e3-cc1e96888fe8",
   "metadata": {},
   "outputs": [],
   "source": [
    "# Define stopwords and abbreviations\n",
    "stop_words = set(stopwords.words('english')) - medical_keywords_to_preserve"
   ]
  },
  {
   "cell_type": "code",
   "execution_count": 30,
   "id": "a4a1a1ba-2e20-47ec-856f-e2bd08530167",
   "metadata": {},
   "outputs": [],
   "source": [
    "lemmatizer = WordNetLemmatizer()"
   ]
  },
  {
   "cell_type": "code",
   "execution_count": 31,
   "id": "a82c6eb7-94d6-484c-be16-c3d93a549a10",
   "metadata": {},
   "outputs": [],
   "source": [
    "def get_wordnet_pos(treebank_tag):\n",
    "    if treebank_tag.startswith('J'):\n",
    "        return 'a'\n",
    "    elif treebank_tag.startswith('V'):\n",
    "        return 'v'\n",
    "    elif treebank_tag.startswith('N'):\n",
    "        return 'n'\n",
    "    elif treebank_tag.startswith('R'):\n",
    "        return 'r'\n",
    "    else:\n",
    "        return 'n'"
   ]
  },
  {
   "cell_type": "code",
   "execution_count": 32,
   "id": "bfc767ee-8849-4a7f-bd2e-c80563720ae4",
   "metadata": {},
   "outputs": [],
   "source": [
    "def preprocess_text(text):\n",
    "    \n",
    "    if not isinstance(text, str):\n",
    "        return \"\"\n",
    "        \n",
    "    # Remove headers (e.g., SUBJECTIVE:)\n",
    "    text = re.sub(r'^(SUBJECTIVE|OBJECTIVE|ASSESSMENT|PLAN|MEDICATIONS|ALLERGIES|VITALS|HEENT|NECK|LUNGS):[,]?', ' ', text, flags=re.IGNORECASE)\n",
    "    \n",
    "    # Convert to lowercase\n",
    "    text = text.lower()\n",
    "    \n",
    "    # Expand abbreviations\n",
    "    for abbr, full in abbreviations.items():\n",
    "        text = text.replace(f' {abbr} ', f' {full} ')\n",
    "        \n",
    "    # Remove punctuation and numbers\n",
    "    text = re.sub(r'[^\\w\\s]', ' ', text)\n",
    "    text = re.sub(r'\\d+', ' ', text)\n",
    "    \n",
    "    # Tokenize\n",
    "    tokens = word_tokenize(text)\n",
    "    \n",
    "    # POS tagging and lemmatization\n",
    "    tagged = pos_tag(tokens)\n",
    "    tokens = [lemmatizer.lemmatize(token, get_wordnet_pos(tag)) for token, tag in tagged if token not in stop_words and len(token) > 2]\n",
    "    return ' '.join(tokens)"
   ]
  },
  {
   "cell_type": "code",
   "execution_count": 33,
   "id": "22f0cead-97c1-4b70-84b8-24824bd7aa31",
   "metadata": {},
   "outputs": [
    {
     "name": "stdout",
     "output_type": "stream",
     "text": [
      "Preprocessing completed. Sample cleaned text:\n",
      "year old white female present complaint allergy use allergy live seattle think bad past try claritin zyrtec work short time seem lose effectiveness use allegra also use last summer begin use two week ago appear work well use counter spray prescription nasal spray asthma doest require daily medication think flare medication medication currently ortho tri cyclen allegra allergies know medicine allergy objective vitals weight pound blood pressure heent throat mildly erythematous without exudate nasal mucosa erythematous swell clear drainage see tm clear neck supple without adenopathy lung clear assessment allergic rhinitis plan try zyrtec instead allegra another option use loratadine think prescription coverage might cheap sample nasonex two spray nostril give three week prescription write well allergy immunology allergic rhinitis allergy asthma nasal spray rhinitis nasal erythematous allegra spray allergic\n"
     ]
    }
   ],
   "source": [
    "# Apply preprocessing\n",
    "df['cleaned_text'] = df['text'].apply(preprocess_text)\n",
    "df = df[df['cleaned_text'].str.strip() != '']\n",
    "print(\"Preprocessing completed. Sample cleaned text:\")\n",
    "print(df['cleaned_text'].iloc[0])"
   ]
  },
  {
   "cell_type": "code",
   "execution_count": 34,
   "id": "2b3ce6a0-b4fa-40ca-ba9e-dc85239d3776",
   "metadata": {},
   "outputs": [
    {
     "data": {
      "text/plain": [
       "Index(['text', 'medical_specialty', 'label', 'text_length', 'cleaned_text'], dtype='object')"
      ]
     },
     "execution_count": 34,
     "metadata": {},
     "output_type": "execute_result"
    }
   ],
   "source": [
    "df.columns"
   ]
  },
  {
   "cell_type": "code",
   "execution_count": 35,
   "id": "04be4cee-4cee-45d9-9072-c12a56f4a22b",
   "metadata": {},
   "outputs": [
    {
     "name": "stderr",
     "output_type": "stream",
     "text": [
      "[nltk_data] Downloading package wordnet to\n",
      "[nltk_data]     C:\\Users\\vrajd\\AppData\\Roaming\\nltk_data...\n",
      "[nltk_data]   Package wordnet is already up-to-date!\n"
     ]
    }
   ],
   "source": [
    "from nlpaug.augmenter.word.synonym import SynonymAug\n",
    "import nltk\n",
    "nltk.download('wordnet')\n",
    "\n",
    "# Text augmentation for minority classes\n",
    "aug = SynonymAug(aug_src='wordnet', aug_p=0.3)\n",
    "\n",
    "def augment_text(text, label, count_threshold=200):\n",
    "    if df['label'].value_counts()[label] < count_threshold:\n",
    "        augmented_texts = [aug.augment(text)[0] for _ in range(2)]  # Generate 2 augmented samples\n",
    "        return [text] + augmented_texts\n",
    "    return [text]\n"
   ]
  },
  {
   "cell_type": "code",
   "execution_count": 36,
   "id": "092ff699-b48a-4d2b-a28d-7c06ba94a420",
   "metadata": {},
   "outputs": [
    {
     "name": "stdout",
     "output_type": "stream",
     "text": [
      "Augmented Class Distribution:\n",
      "medical_specialty\n",
      " Surgery                          1103\n",
      "others                            1076\n",
      " Consult - History and Phy.        516\n",
      " SOAP / Chart / Progress Notes     498\n",
      " Obstetrics / Gynecology           480\n",
      " Urology                           474\n",
      " Cardiovascular / Pulmonary        372\n",
      " Orthopedic                        355\n",
      " Discharge Summary                 324\n",
      " Radiology                         273\n",
      " General Medicine                  259\n",
      " Gastroenterology                  230\n",
      " Neurology                         223\n",
      "Name: count, dtype: int64\n"
     ]
    }
   ],
   "source": [
    "# Apply augmentation\n",
    "augmented_data = []\n",
    "for idx, row in df.iterrows():\n",
    "    texts = augment_text(row['cleaned_text'], row['label'])\n",
    "    for text in texts:\n",
    "        augmented_data.append({'cleaned_text': text, 'label': row['label'], 'medical_specialty': row['medical_specialty']})\n",
    "\n",
    "df_aug = pd.DataFrame(augmented_data)\n",
    "print(\"Augmented Class Distribution:\")\n",
    "print(df_aug['medical_specialty'].value_counts())"
   ]
  },
  {
   "cell_type": "code",
   "execution_count": null,
   "id": "9d73d6b6-b260-49c2-9c63-5c479ec83e0a",
   "metadata": {},
   "outputs": [],
   "source": []
  },
  {
   "cell_type": "markdown",
   "id": "f95f057d-1aea-4abe-9869-aee1490957de",
   "metadata": {},
   "source": [
    "# Data Preparation"
   ]
  },
  {
   "cell_type": "code",
   "execution_count": 37,
   "id": "67d87242-587e-4f12-b5eb-50c44e71f04a",
   "metadata": {},
   "outputs": [
    {
     "name": "stdout",
     "output_type": "stream",
     "text": [
      "Train shape: (4637,) Test shape: (1546,)\n"
     ]
    }
   ],
   "source": [
    "# Features and labels\n",
    "X = df_aug['cleaned_text']\n",
    "y = df_aug['label']\n",
    "\n",
    "# Stratified train-test split\n",
    "X_train, X_test, y_train, y_test = train_test_split(X, y, test_size=0.25, stratify=y, random_state=42)\n",
    "print(\"Train shape:\", X_train.shape, \"Test shape:\", X_test.shape)"
   ]
  },
  {
   "cell_type": "code",
   "execution_count": 38,
   "id": "daf2af03-bbed-48f6-8c4f-3e7cdea3d585",
   "metadata": {},
   "outputs": [
    {
     "data": {
      "text/plain": [
       "(4637,)"
      ]
     },
     "execution_count": 38,
     "metadata": {},
     "output_type": "execute_result"
    }
   ],
   "source": [
    "X_train.shape"
   ]
  },
  {
   "cell_type": "code",
   "execution_count": null,
   "id": "bd8a39f0-9a7d-4ef6-b321-7b291d2487ae",
   "metadata": {},
   "outputs": [],
   "source": []
  },
  {
   "cell_type": "code",
   "execution_count": null,
   "id": "0c505b95-28f1-4032-acfc-d50ddb5f4a35",
   "metadata": {},
   "outputs": [],
   "source": []
  },
  {
   "cell_type": "markdown",
   "id": "afe641f9-c07f-462b-aeb6-81a6b445f010",
   "metadata": {},
   "source": [
    "# Statistical Models"
   ]
  },
  {
   "cell_type": "code",
   "execution_count": 38,
   "id": "0eb63e18-67e0-46f1-9175-0246d1599265",
   "metadata": {},
   "outputs": [],
   "source": [
    "# TF-IDF with increased max_features\n",
    "tfidf = TfidfVectorizer(max_features=15000, ngram_range=(1, 4), min_df=2, max_df=0.9)\n",
    "X_train_tfidf = tfidf.fit_transform(X_train)\n",
    "X_test_tfidf = tfidf.transform(X_test)"
   ]
  },
  {
   "cell_type": "code",
   "execution_count": 39,
   "id": "556ec2ee-7f46-4f54-91d4-d952b5c50bb2",
   "metadata": {},
   "outputs": [
    {
     "data": {
      "text/plain": [
       "(4637, 15000)"
      ]
     },
     "execution_count": 39,
     "metadata": {},
     "output_type": "execute_result"
    }
   ],
   "source": [
    "X_train_tfidf.shape"
   ]
  },
  {
   "cell_type": "code",
   "execution_count": 40,
   "id": "5e515684-47b5-4efe-a7de-0b088d06bea3",
   "metadata": {},
   "outputs": [
    {
     "name": "stdout",
     "output_type": "stream",
     "text": [
      "SMOTE TF-IDF shape: (10751, 15000)\n"
     ]
    }
   ],
   "source": [
    "# Apply SMOTE for class imbalance\n",
    "smote = SMOTE(random_state=42)\n",
    "X_train_tfidf_smote, y_train_smote = smote.fit_resample(X_train_tfidf, y_train)\n",
    "print(\"SMOTE TF-IDF shape:\", X_train_tfidf_smote.shape)"
   ]
  },
  {
   "cell_type": "code",
   "execution_count": 41,
   "id": "ef06f642-9462-423a-910c-2a944bbbf805",
   "metadata": {},
   "outputs": [],
   "source": [
    "# Compute class weights\n",
    "class_weights = {i: len(y_train) / (len(label_encoder.classes_) * np.sum(y_train == i)) for i in range(len(label_encoder.classes_))}"
   ]
  },
  {
   "cell_type": "code",
   "execution_count": 42,
   "id": "c225dd7e-d1c3-40c3-977e-aa3fa1a44ba6",
   "metadata": {},
   "outputs": [],
   "source": [
    "# Feature selection with more features\n",
    "selector = SelectKBest(chi2, k=10000)\n",
    "X_train_tfidf_selected = selector.fit_transform(X_train_tfidf_smote, y_train_smote)\n",
    "X_test_tfidf_selected = selector.transform(X_test_tfidf)"
   ]
  },
  {
   "cell_type": "code",
   "execution_count": null,
   "id": "18b6b8bd-bde2-4751-b6b8-de2833a0e7af",
   "metadata": {},
   "outputs": [],
   "source": []
  },
  {
   "cell_type": "code",
   "execution_count": 44,
   "id": "c58c73fe-64f6-400d-933b-5c6e995f1b24",
   "metadata": {},
   "outputs": [
    {
     "name": "stdout",
     "output_type": "stream",
     "text": [
      "\n",
      "Logistic Regression Results (Best Params: {'C': 10, 'penalty': 'l1', 'solver': 'saga'} )\n",
      "Accuracy: 0.7950, Macro F1: 0.7837, Micro F1: 0.7950\n",
      "                                precision    recall  f1-score   support\n",
      "\n",
      "    Cardiovascular / Pulmonary       0.75      0.80      0.77        93\n",
      "    Consult - History and Phy.       0.47      0.44      0.46       129\n",
      "             Discharge Summary       0.86      0.90      0.88        81\n",
      "              Gastroenterology       0.79      0.84      0.81        57\n",
      "              General Medicine       0.54      0.63      0.58        65\n",
      "                     Neurology       0.60      0.66      0.63        56\n",
      "       Obstetrics / Gynecology       0.92      0.97      0.95       120\n",
      "                    Orthopedic       0.77      0.81      0.79        89\n",
      "                     Radiology       0.84      0.87      0.86        68\n",
      " SOAP / Chart / Progress Notes       0.94      0.93      0.93       125\n",
      "                       Surgery       0.87      0.86      0.86       276\n",
      "                       Urology       0.90      0.97      0.93       118\n",
      "                        others       0.80      0.68      0.74       269\n",
      "\n",
      "                      accuracy                           0.79      1546\n",
      "                     macro avg       0.77      0.80      0.78      1546\n",
      "                  weighted avg       0.80      0.79      0.79      1546\n",
      "\n"
     ]
    },
    {
     "data": {
      "image/png": "[encoded data removed]",
      "text/plain": [
       "<Figure size 1000x800 with 2 Axes>"
      ]
     },
     "metadata": {},
     "output_type": "display_data"
    }
   ],
   "source": [
    "# Logistic Regression with expanded tuning\n",
    "lr = LogisticRegression(max_iter=1000, multi_class='multinomial')\n",
    "param_grid_lr = {\n",
    "    'C': [0.1, 1, 10],\n",
    "    'penalty': ['l1', 'l2'],\n",
    "    'solver': ['saga']\n",
    "}\n",
    "grid_lr = GridSearchCV(lr, param_grid_lr, cv=5, scoring='accuracy', n_jobs=-1)\n",
    "grid_lr.fit(X_train_tfidf_selected, y_train_smote)\n",
    "y_pred_lr = grid_lr.predict(X_test_tfidf_selected)\n",
    "\n",
    "lr_accuracy = accuracy_score(y_test, y_pred_lr)\n",
    "lr_f1_macro = f1_score(y_test, y_pred_lr, average='macro')\n",
    "lr_f1_micro = f1_score(y_test, y_pred_lr, average='micro')\n",
    "print(\"\\nLogistic Regression Results (Best Params:\", grid_lr.best_params_, \")\")\n",
    "print(f\"Accuracy: {lr_accuracy:.4f}, Macro F1: {lr_f1_macro:.4f}, Micro F1: {lr_f1_micro:.4f}\")\n",
    "print(classification_report(y_test, y_pred_lr, target_names=label_encoder.classes_))\n",
    "cm_lr = confusion_matrix(y_test, y_pred_lr)\n",
    "\n",
    "plt.figure(figsize=(10, 8))\n",
    "sns.heatmap(cm_lr, annot=True, fmt='d', cmap='Blues', xticklabels=label_encoder.classes_, yticklabels=label_encoder.classes_)\n",
    "plt.title('Logistic Regression Confusion Matrix')\n",
    "plt.xlabel('Predicted')\n",
    "plt.ylabel('True')\n",
    "plt.show()"
   ]
  },
  {
   "cell_type": "code",
   "execution_count": 131,
   "id": "f45341da-f5fd-4ffc-af29-fae76f8c89a5",
   "metadata": {},
   "outputs": [
    {
     "name": "stdout",
     "output_type": "stream",
     "text": [
      "C:\\Users\\vrajd\\AppData\\Local\\Programs\\Python\\Python311\\python.exe\n"
     ]
    }
   ],
   "source": [
    "import sys\n",
    "print(sys.executable)\n"
   ]
  },
  {
   "cell_type": "code",
   "execution_count": 139,
   "id": "c8ab056e-49f4-4e97-8177-81ae165ce503",
   "metadata": {},
   "outputs": [
    {
     "name": "stdout",
     "output_type": "stream",
     "text": [
      "Torch version: 2.7.1+cpu\n",
      "Torch CUDA version: None\n",
      "CUDA available: False\n"
     ]
    }
   ],
   "source": [
    "import torch\n",
    "print(\"Torch version:\", torch.__version__)\n",
    "print(\"Torch CUDA version:\", torch.version.cuda)\n",
    "print(\"CUDA available:\", torch.cuda.is_available())"
   ]
  },
  {
   "cell_type": "code",
   "execution_count": null,
   "id": "40b0336f-2dde-4bff-a957-d8192367fbb3",
   "metadata": {},
   "outputs": [],
   "source": []
  },
  {
   "cell_type": "code",
   "execution_count": null,
   "id": "c515c863-7126-44bd-8f51-ca0a49832b62",
   "metadata": {},
   "outputs": [],
   "source": []
  },
  {
   "cell_type": "code",
   "execution_count": null,
   "id": "b659e8c5-592b-428d-8db0-a08acede9658",
   "metadata": {},
   "outputs": [],
   "source": []
  },
  {
   "cell_type": "code",
   "execution_count": null,
   "id": "2dd13d51-7eb0-494a-9039-8feeb5ce1c94",
   "metadata": {},
   "outputs": [],
   "source": []
  },
  {
   "cell_type": "code",
   "execution_count": null,
   "id": "5187be42-a1d3-4590-bb9a-dbef3e7de885",
   "metadata": {},
   "outputs": [],
   "source": []
  },
  {
   "cell_type": "code",
   "execution_count": null,
   "id": "1e434d8e-6d94-4848-89f9-5b2fe8032dce",
   "metadata": {},
   "outputs": [],
   "source": []
  },
  {
   "cell_type": "code",
   "execution_count": null,
   "id": "97765bbc-2707-4e1d-9590-80567dc51a07",
   "metadata": {},
   "outputs": [],
   "source": []
  },
  {
   "cell_type": "code",
   "execution_count": null,
   "id": "540c49fc-a812-47e9-81dd-50ac387ebd97",
   "metadata": {},
   "outputs": [],
   "source": []
  },
  {
   "cell_type": "code",
   "execution_count": null,
   "id": "1f2d27d5-7ba6-4393-9269-caef1c2e9255",
   "metadata": {},
   "outputs": [],
   "source": []
  },
  {
   "cell_type": "code",
   "execution_count": null,
   "id": "d51ddaf4-a81e-48e8-9734-cb90eb59924f",
   "metadata": {},
   "outputs": [],
   "source": []
  },
  {
   "cell_type": "code",
   "execution_count": null,
   "id": "9294c764-3e90-4659-b6db-8ef3299a0b05",
   "metadata": {},
   "outputs": [],
   "source": []
  },
  {
   "cell_type": "code",
   "execution_count": null,
   "id": "aeadbbd0-3b6d-48ee-9b85-12ef44923a20",
   "metadata": {},
   "outputs": [],
   "source": []
  },
  {
   "cell_type": "markdown",
   "id": "1fbaf6ee-b574-409f-9934-a19d0cb2a151",
   "metadata": {},
   "source": [
    "# Transformer Model (BioBERT)"
   ]
  },
  {
   "cell_type": "code",
   "execution_count": 43,
   "id": "3b2ed940-965a-4290-9725-f28f03860c74",
   "metadata": {},
   "outputs": [],
   "source": [
    "import torch\n",
    "from torch.utils.data import DataLoader, Dataset\n",
    "from transformers import AutoTokenizer, AutoModelForSequenceClassification, get_linear_schedule_with_warmup, pipeline\n",
    "from transformers import pipeline\n",
    "from tqdm import tqdm"
   ]
  },
  {
   "cell_type": "code",
   "execution_count": 44,
   "id": "7058cb96-330d-4d83-9c5d-fc3617238700",
   "metadata": {},
   "outputs": [
    {
     "name": "stdout",
     "output_type": "stream",
     "text": [
      "Using device: cuda\n"
     ]
    }
   ],
   "source": [
    "# Set device\n",
    "device = torch.device(\"cuda\" if torch.cuda.is_available() else \"cpu\")\n",
    "print(f\"Using device: {device}\")"
   ]
  },
  {
   "cell_type": "code",
   "execution_count": 52,
   "id": "525367bf-e970-494d-a920-dd20c2e9ae50",
   "metadata": {},
   "outputs": [
    {
     "name": "stderr",
     "output_type": "stream",
     "text": [
      "Some weights of BertForSequenceClassification were not initialized from the model checkpoint at dmis-lab/biobert-base-cased-v1.1 and are newly initialized: ['classifier.bias', 'classifier.weight']\n",
      "You should probably TRAIN this model on a down-stream task to be able to use it for predictions and inference.\n"
     ]
    },
    {
     "data": {
      "text/plain": [
       "BertForSequenceClassification(\n",
       "  (bert): BertModel(\n",
       "    (embeddings): BertEmbeddings(\n",
       "      (word_embeddings): Embedding(28996, 768, padding_idx=0)\n",
       "      (position_embeddings): Embedding(512, 768)\n",
       "      (token_type_embeddings): Embedding(2, 768)\n",
       "      (LayerNorm): LayerNorm((768,), eps=1e-12, elementwise_affine=True)\n",
       "      (dropout): Dropout(p=0.1, inplace=False)\n",
       "    )\n",
       "    (encoder): BertEncoder(\n",
       "      (layer): ModuleList(\n",
       "        (0-11): 12 x BertLayer(\n",
       "          (attention): BertAttention(\n",
       "            (self): BertSdpaSelfAttention(\n",
       "              (query): Linear(in_features=768, out_features=768, bias=True)\n",
       "              (key): Linear(in_features=768, out_features=768, bias=True)\n",
       "              (value): Linear(in_features=768, out_features=768, bias=True)\n",
       "              (dropout): Dropout(p=0.1, inplace=False)\n",
       "            )\n",
       "            (output): BertSelfOutput(\n",
       "              (dense): Linear(in_features=768, out_features=768, bias=True)\n",
       "              (LayerNorm): LayerNorm((768,), eps=1e-12, elementwise_affine=True)\n",
       "              (dropout): Dropout(p=0.1, inplace=False)\n",
       "            )\n",
       "          )\n",
       "          (intermediate): BertIntermediate(\n",
       "            (dense): Linear(in_features=768, out_features=3072, bias=True)\n",
       "            (intermediate_act_fn): GELUActivation()\n",
       "          )\n",
       "          (output): BertOutput(\n",
       "            (dense): Linear(in_features=3072, out_features=768, bias=True)\n",
       "            (LayerNorm): LayerNorm((768,), eps=1e-12, elementwise_affine=True)\n",
       "            (dropout): Dropout(p=0.1, inplace=False)\n",
       "          )\n",
       "        )\n",
       "      )\n",
       "    )\n",
       "    (pooler): BertPooler(\n",
       "      (dense): Linear(in_features=768, out_features=768, bias=True)\n",
       "      (activation): Tanh()\n",
       "    )\n",
       "  )\n",
       "  (dropout): Dropout(p=0.1, inplace=False)\n",
       "  (classifier): Linear(in_features=768, out_features=13, bias=True)\n",
       ")"
      ]
     },
     "execution_count": 52,
     "metadata": {},
     "output_type": "execute_result"
    }
   ],
   "source": [
    "# Load BioBERT tokenizer and model\n",
    "tokenizer = AutoTokenizer.from_pretrained(\"dmis-lab/biobert-base-cased-v1.1\")\n",
    "\n",
    "model = AutoModelForSequenceClassification.from_pretrained(\n",
    "    \"dmis-lab/biobert-base-cased-v1.1\",\n",
    "    num_labels=num_classes,\n",
    "    trust_remote_code=True,\n",
    "    use_safetensors=True\n",
    ")\n",
    "model.to(device)"
   ]
  },
  {
   "cell_type": "code",
   "execution_count": 53,
   "id": "5a5b607a-115d-405a-bc80-046b8e188eea",
   "metadata": {},
   "outputs": [],
   "source": [
    "# Dataset class\n",
    "class BERTDataset(Dataset):\n",
    "    def __init__(self, texts, labels, tokenizer, max_length=512):\n",
    "        self.texts = texts.tolist()\n",
    "        self.labels = labels.to_numpy()\n",
    "        self.tokenizer = tokenizer\n",
    "        self.max_length = max_length\n",
    "    \n",
    "    def __len__(self):\n",
    "        return len(self.labels)\n",
    "    \n",
    "    def __getitem__(self, idx):\n",
    "        text = self.texts[idx]\n",
    "        encoding = self.tokenizer(\n",
    "            text,\n",
    "            truncation=True,\n",
    "            padding='max_length',\n",
    "            max_length=self.max_length,\n",
    "            return_tensors='pt'\n",
    "        )\n",
    "        return {\n",
    "            'input_ids': encoding['input_ids'].squeeze(),\n",
    "            'attention_mask': encoding['attention_mask'].squeeze(),\n",
    "            'labels': torch.tensor(self.labels[idx], dtype=torch.long)\n",
    "        }"
   ]
  },
  {
   "cell_type": "code",
   "execution_count": 55,
   "id": "39e466e5-a850-411f-bd29-71f219611008",
   "metadata": {},
   "outputs": [
    {
     "name": "stderr",
     "output_type": "stream",
     "text": [
      "Epoch 1: 100%|███████████████████████████████████████████████████████████████████████████████████████████████| 290/290 [03:33<00:00,  1.36it/s, loss=0.582]\n"
     ]
    },
    {
     "name": "stdout",
     "output_type": "stream",
     "text": [
      "Epoch 1 Average Loss: 1.5833\n"
     ]
    },
    {
     "name": "stderr",
     "output_type": "stream",
     "text": [
      "Epoch 2: 100%|███████████████████████████████████████████████████████████████████████████████████████████████| 290/290 [03:33<00:00,  1.36it/s, loss=0.753]\n"
     ]
    },
    {
     "name": "stdout",
     "output_type": "stream",
     "text": [
      "Epoch 2 Average Loss: 0.6234\n"
     ]
    },
    {
     "name": "stderr",
     "output_type": "stream",
     "text": [
      "Epoch 3: 100%|███████████████████████████████████████████████████████████████████████████████████████████████| 290/290 [03:32<00:00,  1.36it/s, loss=0.541]\n"
     ]
    },
    {
     "name": "stdout",
     "output_type": "stream",
     "text": [
      "Epoch 3 Average Loss: 0.4885\n"
     ]
    },
    {
     "name": "stderr",
     "output_type": "stream",
     "text": [
      "Epoch 4: 100%|███████████████████████████████████████████████████████████████████████████████████████████████| 290/290 [03:32<00:00,  1.36it/s, loss=0.234]\n"
     ]
    },
    {
     "name": "stdout",
     "output_type": "stream",
     "text": [
      "Epoch 4 Average Loss: 0.4149\n"
     ]
    },
    {
     "name": "stderr",
     "output_type": "stream",
     "text": [
      "Epoch 5: 100%|███████████████████████████████████████████████████████████████████████████████████████████████| 290/290 [03:32<00:00,  1.36it/s, loss=0.251]\n"
     ]
    },
    {
     "name": "stdout",
     "output_type": "stream",
     "text": [
      "Epoch 5 Average Loss: 0.3604\n"
     ]
    },
    {
     "name": "stderr",
     "output_type": "stream",
     "text": [
      "Epoch 6: 100%|███████████████████████████████████████████████████████████████████████████████████████████████| 290/290 [03:32<00:00,  1.37it/s, loss=0.186]\n"
     ]
    },
    {
     "name": "stdout",
     "output_type": "stream",
     "text": [
      "Epoch 6 Average Loss: 0.3287\n"
     ]
    },
    {
     "name": "stderr",
     "output_type": "stream",
     "text": [
      "Epoch 7: 100%|███████████████████████████████████████████████████████████████████████████████████████████████| 290/290 [03:32<00:00,  1.37it/s, loss=0.685]\n"
     ]
    },
    {
     "name": "stdout",
     "output_type": "stream",
     "text": [
      "Epoch 7 Average Loss: 0.3292\n"
     ]
    },
    {
     "name": "stderr",
     "output_type": "stream",
     "text": [
      "Epoch 8: 100%|██████████████████████████████████████████████████████████████████████████████████████████████| 290/290 [03:32<00:00,  1.37it/s, loss=0.0554]\n"
     ]
    },
    {
     "name": "stdout",
     "output_type": "stream",
     "text": [
      "Epoch 8 Average Loss: 0.3313\n"
     ]
    },
    {
     "name": "stderr",
     "output_type": "stream",
     "text": [
      "Epoch 9: 100%|███████████████████████████████████████████████████████████████████████████████████████████████| 290/290 [03:32<00:00,  1.37it/s, loss=0.264]\n"
     ]
    },
    {
     "name": "stdout",
     "output_type": "stream",
     "text": [
      "Epoch 9 Average Loss: 0.3278\n"
     ]
    },
    {
     "name": "stderr",
     "output_type": "stream",
     "text": [
      "Epoch 10: 100%|██████████████████████████████████████████████████████████████████████████████████████████████| 290/290 [03:32<00:00,  1.37it/s, loss=0.528]\n"
     ]
    },
    {
     "name": "stdout",
     "output_type": "stream",
     "text": [
      "Epoch 10 Average Loss: 0.3307\n"
     ]
    },
    {
     "data": {
      "text/plain": [
       "('biobert_medical_specialty_classifier\\\\tokenizer_config.json',\n",
       " 'biobert_medical_specialty_classifier\\\\special_tokens_map.json',\n",
       " 'biobert_medical_specialty_classifier\\\\vocab.txt',\n",
       " 'biobert_medical_specialty_classifier\\\\added_tokens.json',\n",
       " 'biobert_medical_specialty_classifier\\\\tokenizer.json')"
      ]
     },
     "execution_count": 55,
     "metadata": {},
     "output_type": "execute_result"
    }
   ],
   "source": [
    "from sklearn.utils.class_weight import compute_class_weight\n",
    "from torch.optim import AdamW\n",
    "\n",
    "\n",
    "# Create datasets\n",
    "train_dataset = BERTDataset(X_train, y_train, tokenizer, max_length=512)\n",
    "test_dataset = BERTDataset(X_test, y_test, tokenizer, max_length=512)\n",
    "train_loader = DataLoader(train_dataset, batch_size=16, shuffle=True)\n",
    "test_loader = DataLoader(test_dataset, batch_size=16)\n",
    "\n",
    "# Compute class weights\n",
    "class_weights = compute_class_weight('balanced', classes=np.unique(y_train), y=y_train.to_numpy())\n",
    "class_weights = torch.tensor(class_weights, dtype=torch.float).to(device)\n",
    "\n",
    "# Optimizer and scheduler\n",
    "optimizer = AdamW(model.parameters(), lr=3e-5, weight_decay=0.01)\n",
    "scheduler = get_linear_schedule_with_warmup(\n",
    "    optimizer, num_warmup_steps=100, num_training_steps=len(train_loader) * 5\n",
    ")\n",
    "\n",
    "# Training loop with class-weighted loss\n",
    "model.train()\n",
    "for epoch in range(10):\n",
    "    total_loss = 0\n",
    "    loop = tqdm(train_loader, desc=f\"Epoch {epoch+1}\")\n",
    "    for batch in loop:\n",
    "        optimizer.zero_grad()\n",
    "        input_ids = batch['input_ids'].to(device)\n",
    "        attention_mask = batch['attention_mask'].to(device)\n",
    "        labels = batch['labels'].to(device)\n",
    "\n",
    "        outputs = model(input_ids=input_ids, attention_mask=attention_mask)\n",
    "        logits = outputs.logits\n",
    "        loss_fn = torch.nn.CrossEntropyLoss(weight=class_weights)\n",
    "        loss = loss_fn(logits, labels)\n",
    "        loss.backward()\n",
    "        torch.nn.utils.clip_grad_norm_(model.parameters(), max_norm=1.0)\n",
    "        optimizer.step()\n",
    "        scheduler.step()\n",
    "\n",
    "        total_loss += loss.item()\n",
    "        loop.set_postfix(loss=loss.item())\n",
    "    print(f\"Epoch {epoch+1} Average Loss: {total_loss / len(train_loader):.4f}\")\n",
    "\n",
    "# Save the model\n",
    "model.save_pretrained(\"biobert_medical_specialty_classifier\")\n",
    "tokenizer.save_pretrained(\"biobert_medical_specialty_classifier\")"
   ]
  },
  {
   "cell_type": "code",
   "execution_count": 56,
   "id": "1b861ac3-bff2-49b7-9222-a08bca151ddc",
   "metadata": {},
   "outputs": [
    {
     "name": "stderr",
     "output_type": "stream",
     "text": [
      "Device set to use cuda:0\n",
      "Predicting: 100%|██████████████████████████████████████████████████████████████████████████████████████████████████████| 1546/1546 [00:18<00:00, 83.66it/s]\n"
     ]
    },
    {
     "name": "stdout",
     "output_type": "stream",
     "text": [
      "\n",
      "BioBERT Pipeline Results:\n",
      "Accuracy: 0.7607, Macro F1: 0.7538, Micro F1: 0.7607\n",
      "                                precision    recall  f1-score   support\n",
      "\n",
      "    Cardiovascular / Pulmonary       0.68      0.85      0.75        93\n",
      "    Consult - History and Phy.       0.47      0.40      0.43       129\n",
      "             Discharge Summary       0.90      0.90      0.90        81\n",
      "              Gastroenterology       0.72      0.81      0.76        57\n",
      "              General Medicine       0.49      0.71      0.58        65\n",
      "                     Neurology       0.51      0.75      0.61        56\n",
      "       Obstetrics / Gynecology       0.86      0.96      0.91       120\n",
      "                    Orthopedic       0.58      0.81      0.68        89\n",
      "                     Radiology       0.83      0.85      0.84        68\n",
      " SOAP / Chart / Progress Notes       0.92      0.88      0.90       125\n",
      "                       Surgery       0.93      0.68      0.79       276\n",
      "                       Urology       0.86      0.97      0.91       118\n",
      "                        others       0.83      0.67      0.74       269\n",
      "\n",
      "                      accuracy                           0.76      1546\n",
      "                     macro avg       0.74      0.79      0.75      1546\n",
      "                  weighted avg       0.78      0.76      0.76      1546\n",
      "\n"
     ]
    },
    {
     "data": {
      "image/png": "[encoded data removed]",
      "text/plain": [
       "<Figure size 1000x800 with 2 Axes>"
      ]
     },
     "metadata": {},
     "output_type": "display_data"
    }
   ],
   "source": [
    "# Load the fine-tuned model into a pipeline for inference\n",
    "classifier = pipeline(\n",
    "    \"text-classification\",\n",
    "    model=\"biobert_medical_specialty_classifier\",\n",
    "    tokenizer=\"biobert_medical_specialty_classifier\",\n",
    "    device=0 if torch.cuda.is_available() else -1\n",
    ")\n",
    "\n",
    "# Perform inference on test set\n",
    "predictions = []\n",
    "for text in tqdm(X_test, desc=\"Predicting\"):\n",
    "    result = classifier(text, truncation=True, max_length=512)\n",
    "    predicted_label = result[0]['label']\n",
    "    # Extract index from LABEL_<index> format\n",
    "    try:\n",
    "        predicted_id = int(predicted_label.replace('LABEL_', ''))\n",
    "        if predicted_id >= num_classes:\n",
    "            raise ValueError(f\"Predicted ID {predicted_id} exceeds num_classes {num_classes}\")\n",
    "    except ValueError as e:\n",
    "        print(f\"Error processing label {predicted_label}: {e}\")\n",
    "        predicted_id = 0  # Fallback to a default class (e.g., 'others')\n",
    "    predictions.append(predicted_id)\n",
    "\n",
    "# Evaluate\n",
    "accuracy = accuracy_score(y_test, predictions)\n",
    "f1_macro = f1_score(y_test, predictions, average='macro')\n",
    "f1_micro = f1_score(y_test, predictions, average='micro')\n",
    "\n",
    "print(\"\\nBioBERT Pipeline Results:\")\n",
    "print(f\"Accuracy: {accuracy:.4f}, Macro F1: {f1_macro:.4f}, Micro F1: {f1_micro:.4f}\")\n",
    "print(classification_report(y_test, predictions, target_names=label_encoder.classes_))\n",
    "\n",
    "# Plot confusion matrix\n",
    "cm = confusion_matrix(y_test, predictions)\n",
    "plt.figure(figsize=(10, 8))\n",
    "sns.heatmap(cm, annot=True, fmt='d', cmap='Blues', xticklabels=label_encoder.classes_, yticklabels=label_encoder.classes_)\n",
    "plt.title('BioBERT Pipeline Confusion Matrix')\n",
    "plt.xlabel('Predicted')\n",
    "plt.ylabel('True')\n",
    "plt.xticks(rotation=45, ha='right')\n",
    "plt.tight_layout()\n",
    "plt.show()"
   ]
  },
  {
   "cell_type": "code",
   "execution_count": null,
   "id": "c88c7839-21c0-4113-8020-32a9d3355bac",
   "metadata": {},
   "outputs": [],
   "source": []
  },
  {
   "cell_type": "code",
   "execution_count": null,
   "id": "516ed260-edf3-40de-aeb1-787213c96d99",
   "metadata": {},
   "outputs": [],
   "source": []
  },
  {
   "cell_type": "code",
   "execution_count": null,
   "id": "27a2a1f8-16dc-4df3-b93c-27220bea7708",
   "metadata": {},
   "outputs": [],
   "source": []
  },
  {
   "cell_type": "code",
   "execution_count": null,
   "id": "76e8217b-5d52-453d-b1bf-6f8527557827",
   "metadata": {},
   "outputs": [],
   "source": []
  }
 ],
 "metadata": {
  "kernelspec": {
   "display_name": "Python 3 (ipykernel)",
   "language": "python",
   "name": "python3"
  },
  "language_info": {
   "codemirror_mode": {
    "name": "ipython",
    "version": 3
   },
   "file_extension": ".py",
   "mimetype": "text/x-python",
   "name": "python",
   "nbconvert_exporter": "python",
   "pygments_lexer": "ipython3",
   "version": "3.11.8"
  }
 },
 "nbformat": 4,
 "nbformat_minor": 5
}
